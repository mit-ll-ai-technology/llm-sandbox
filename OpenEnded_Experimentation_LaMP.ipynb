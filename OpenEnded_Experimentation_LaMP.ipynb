{
 "cells": [
  {
   "cell_type": "markdown",
   "metadata": {},
   "source": [
    "DISTRIBUTION STATEMENT A. Approved for public release. Distribution is unlimited.\n",
    "\n",
    "This material is based upon work supported by the Under Secretary of Defense for Research and Engineering under Air Force Contract No. FA8702-15-D-0001. Any opinions, findings, conclusions or recommendations expressed in this material are those of the author(s) and do not necessarily reflect the views of the Under Secretary of Defense for Research and Engineering.\n",
    "\n",
    "© 2024 Massachusetts Institute of Technology.\n",
    "\n",
    "The software/firmware is provided to you on an As-Is basis\n",
    "\n",
    "Delivered to the U.S. Government with Unlimited Rights, as defined in DFARS Part 252.227-7013 or 7014 (Feb 2014). Notwithstanding any copyright notice, U.S. Government rights in this work are defined by DFARS 252.227-7013 or DFARS 252.227-7014 as detailed above. Use of this work other than as specifically authorized by the U.S. Government may violate any copyrights that exist in this work.\n"
   ]
  },
  {
   "cell_type": "markdown",
   "metadata": {},
   "source": [
    "# Experimentation on generating open-ended responses for the LaMP Benchmark.\n",
    "\n",
    "This notebook demonstrates the behavior of the `OpenEndedBot` instantiations of `bot_interfaces.py` with the LaMP-4 benchmark (lamp-benchmark.github.io)."
   ]
  },
  {
   "cell_type": "markdown",
   "metadata": {},
   "source": [
    "Imports and LLM setup."
   ]
  },
  {
   "cell_type": "code",
   "execution_count": 1,
   "metadata": {},
   "outputs": [],
   "source": [
    "# import langchain dependencies\n",
    "from langchain.schema import HumanMessage\n",
    "\n",
    "# import other dependencies\n",
    "import yaml\n",
    "import os\n",
    "import json\n",
    "from datetime import datetime\n",
    "from typing import Type\n",
    "\n",
    "# import internal functions\n",
    "from io_functions import *\n",
    "from langchain_setup import *\n",
    "from bot_interfaces import *\n",
    "from preference_dungeon import *"
   ]
  },
  {
   "cell_type": "markdown",
   "metadata": {},
   "source": [
    "Initializing model and environment details"
   ]
  },
  {
   "cell_type": "code",
   "execution_count": 2,
   "metadata": {},
   "outputs": [],
   "source": [
    "game_environment = \"lamp4\"  # this can be updated according to the folder you name that stores your dataset\n",
    "verbose_output = False\n",
    "save_session = True\n",
    "offer_justification = False\n",
    "\n",
    "MODEL_NAME = \"gpt-3.5-turbo\"\n",
    "llm = ChatOpenAI(model_name=MODEL_NAME, temperature=0)\n",
    "embeddings = OpenAIEmbeddings(model=\"text-embedding-ada-002\")"
   ]
  },
  {
   "cell_type": "markdown",
   "metadata": {},
   "source": [
    "Reading in prompt templates"
   ]
  },
  {
   "cell_type": "code",
   "execution_count": 3,
   "metadata": {},
   "outputs": [],
   "source": [
    "# these should be filled automatically, but will leave them at editable items just in case\n",
    "prompts_yaml_path = os.path.join(\n",
    "    \"prompt_templates\", game_environment, \"explanation_prompts.yaml\"\n",
    ")\n",
    "\n",
    "with open(prompts_yaml_path, \"r\", encoding=\"utf-8\") as file:\n",
    "    prompts_yaml = yaml.safe_load(file)\n",
    "    initial_prompt = HumanMessage(content=prompts_yaml[\"initial_prompt\"])\n",
    "\n",
    "    # Some prompts for Model Performance Evaluation from the paper\n",
    "    langchain_offer_template = prompts_yaml[\"langchain_offer_template\"]\n",
    "    langchain_RAG_offer_template = prompts_yaml[\"langchain_RAG_offer_template\"]\n",
    "    langchain_prejust_offer_template = prompts_yaml[\"langchain_prejust_offer_template\"]\n",
    "    langchain_postjust_offer_template = prompts_yaml[\n",
    "        \"langchain_postjust_offer_template\"\n",
    "    ]\n",
    "    langchain_crossdomainjust_offer_template = prompts_yaml[\n",
    "        \"langchain_crossdomainjust_offer_template\"\n",
    "    ]\n",
    "    langchain_fakejust_offer_template = prompts_yaml[\n",
    "        \"langchain_fakejust_offer_template\"\n",
    "    ]\n",
    "    langchain_ZS_offer_template = prompts_yaml[\"langchain_ZS_offer_template\"]\n",
    "    langchain_FS_offer_template = prompts_yaml[\"langchain_FS_offer_template\"]\n",
    "    langchain_prejust_RAG_offer_template = prompts_yaml[\n",
    "        \"langchain_prejust_RAG_offer_template\"\n",
    "    ]\n",
    "    langchain_postjust_RAG_offer_template = prompts_yaml[\n",
    "        \"langchain_postjust_RAG_offer_template\"\n",
    "    ]\n",
    "    langchain_crossdomainjust_RAG_offer_template = prompts_yaml[\n",
    "        \"langchain_crossdomainjust_RAG_offer_template\"\n",
    "    ]\n",
    "    langchain_fakejust_RAG_offer_template = prompts_yaml[\n",
    "        \"langchain_fakejust_RAG_offer_template\"\n",
    "    ]\n",
    "    langchain_ZS_RAG_offer_template = prompts_yaml[\"langchain_ZS_RAG_offer_template\"]\n",
    "    langchain_numericaljust_RAG_offer_template = prompts_yaml[\n",
    "        \"langchain_numericaljust_RAG_offer_template\"\n",
    "    ]"
   ]
  },
  {
   "cell_type": "markdown",
   "metadata": {},
   "source": [
    "Loading in data"
   ]
  },
  {
   "cell_type": "code",
   "execution_count": 4,
   "metadata": {},
   "outputs": [],
   "source": [
    "dev_questions_file_path = os.path.join(\"data\", game_environment, \"dev_questions.json\")\n",
    "dev_outputs_file_path = os.path.join(\"data\", game_environment, \"dev_outputs.json\")\n",
    "\n",
    "with open(dev_questions_file_path, \"r\") as file:\n",
    "    dev_questions = json.load(file)\n",
    "\n",
    "with open(dev_outputs_file_path, \"r\") as file:\n",
    "    dev_outputs = json.load(file)"
   ]
  },
  {
   "cell_type": "markdown",
   "metadata": {},
   "source": [
    "Define evaluation loop and bots. A *bot* is just any variant of agent that we are testing (e.g. random, full-history context LLM, summary variants, RAG, etc). All bots need to match the Bot abstract class in `bot_interfaces.py` to work with the evaluation loop."
   ]
  },
  {
   "cell_type": "code",
   "execution_count": 5,
   "metadata": {},
   "outputs": [],
   "source": [
    "def evaluation_loop(\n",
    "    dm: Type[DungeonMaster], bot_list: list[Type[Bot]], iterations: int = 1\n",
    "):\n",
    "\n",
    "    # create a list of dictionaries to hold the results\n",
    "    bot_results = []\n",
    "    ground_truths = []\n",
    "    encounters = []\n",
    "\n",
    "    for bot in bot_list:\n",
    "        bot_results.append(\n",
    "            {\n",
    "                \"bot name\": bot.name,\n",
    "                \"contexts presented\": 0,\n",
    "                \"offers\": [],\n",
    "                \"response history\": [],\n",
    "            }\n",
    "        )\n",
    "\n",
    "    for encounter_num in range(1, iterations + 1):\n",
    "        print(\n",
    "            \"encounter_num: \",\n",
    "            encounter_num,\n",
    "            \"length of user profile: \",\n",
    "            len(dm.contexts[dm.context_counter][\"profile\"]),\n",
    "        )\n",
    "\n",
    "        encounters.append(dm.print_current_context())\n",
    "        if verbose_output:\n",
    "            print(f\"DM: Encounter {encounter_num}: {dm.print_current_context()}\")\n",
    "\n",
    "        ground_truths.append(dm.print_current_ground_truth())\n",
    "\n",
    "        # have each bot evaluate the current context\n",
    "        for i, bot in enumerate(bot_list):\n",
    "            bot.update_external_memory(\n",
    "                dm.contexts[dm.context_counter][\"profile\"],\n",
    "                dm.contexts,\n",
    "                dm.context_counter,\n",
    "                replace=True,\n",
    "            )\n",
    "            offer_str = bot.make_offer(f\"{dm.print_current_context()}\")\n",
    "            \n",
    "            bot_results[i][\"offers\"].append(offer_str)\n",
    "\n",
    "        dm.next_context()\n",
    "\n",
    "    # print(\"\\n\\nbot_results[i][\\\"offers\\\"]: \", bot_results[i][\"offers\"])\n",
    "    \n",
    "    rouge_1, rouge_L = [], []\n",
    "    for i, bot in enumerate(bot_results):\n",
    "        rouge_result = dm.evaluate_offer(\n",
    "            bot_results[i][\"offers\"],\n",
    "            ground_truths,\n",
    "            answer_id_string=\"Generated Headline\",\n",
    "        )\n",
    "        rouge_1.append((i, rouge_result[\"rouge1_fmeasure\"]))\n",
    "        rouge_L.append((i, rouge_result[\"rougeL_fmeasure\"]))\n",
    "\n",
    "    print(f\"ROUGE-1 score: {rouge_1}, ROUGE-L score: {rouge_L}\")\n",
    "\n",
    "    return encounters, bot_results, ground_truths"
   ]
  },
  {
   "cell_type": "markdown",
   "metadata": {},
   "source": [
    "Defining the environment and bots (as well as their corresponding extraction functions)"
   ]
  },
  {
   "cell_type": "code",
   "execution_count": 6,
   "metadata": {},
   "outputs": [],
   "source": [
    "dm = DungeonMasterOpenEnded(\n",
    "    dev_questions,\n",
    "    dev_outputs,\n",
    "    preferences=None, \n",
    "    evaluation_method=None\n",
    ")\n",
    "\n",
    "bot_list = [\n",
    "    LLMWithNoHistoryOpenEndedBot(llm, initial_prompt.content, langchain_offer_template, \"NoHistory\"), #1\n",
    "    LLMWithRetrievedHistoryOpenEndedBot(llm, initial_prompt.content, langchain_RAG_offer_template, \"RetrievedHistory\"), #2\n",
    "    LLMWithRandomHistoryOpenEndedBot(llm, initial_prompt.content, langchain_offer_template, \"RandomHistory\"), #3\n",
    "    LLMWithEntireHistoryOpenEndedBot(llm, initial_prompt.content, langchain_offer_template, \"EntireHistory\"), #4\n",
    "    LLMWithNoHistoryOpenEndedBot(llm, initial_prompt.content, langchain_prejust_offer_template, \"NoHistoryPreJust\"), #5\n",
    "    LLMWithNoHistoryOpenEndedBot(llm, initial_prompt.content, langchain_postjust_offer_template, \"NoHistoryPostJust\"), #6\n",
    "    LLMWithNoHistoryOpenEndedBot(llm, initial_prompt.content, langchain_crossdomainjust_offer_template, \"NoHistoryCrossDomainJust\"), #7\n",
    "    LLMWithNoHistoryOpenEndedBot(llm, initial_prompt.content, langchain_fakejust_offer_template, \"NoHistoryFakeJust\"), #8\n",
    "    LLMWithNoHistoryOpenEndedBot(llm, initial_prompt.content, langchain_ZS_offer_template, \"NoHistoryZS\"), #9\n",
    "    LLMWithNoHistoryOpenEndedBot(llm, initial_prompt.content, langchain_FS_offer_template, \"NoHistoryFS\"), #10\n",
    "    LLMWithRetrievedHistoryOpenEndedBot(llm, initial_prompt.content, langchain_prejust_RAG_offer_template, \"RetrievedHistoryPreJust\"), #11\n",
    "    LLMWithRetrievedHistoryOpenEndedBot(llm, initial_prompt.content, langchain_postjust_RAG_offer_template, \"RetrievedHistoryPostJust\"), #12\n",
    "    LLMWithRetrievedHistoryOpenEndedBot(llm, initial_prompt.content, langchain_crossdomainjust_RAG_offer_template, \"RetrievedHistoryCrossDomainJust\"), #13\n",
    "    LLMWithRetrievedHistoryOpenEndedBot(llm, initial_prompt.content, langchain_fakejust_RAG_offer_template, \"RetrievedHistoryFakeJust\"), #14\n",
    "    LLMWithRetrievedHistoryOpenEndedBot(llm, initial_prompt.content, langchain_ZS_RAG_offer_template, \"RetrievedHistoryZS\"), #15\n",
    "    LLMWithRetrievedHistoryOpenEndedBot(llm, initial_prompt.content, langchain_numericaljust_RAG_offer_template, \"RetrievedHistoryNumericalJust\"), #16\n",
    "    ]"
   ]
  },
  {
   "cell_type": "markdown",
   "metadata": {},
   "source": [
    "Results"
   ]
  },
  {
   "cell_type": "code",
   "execution_count": 7,
   "metadata": {},
   "outputs": [
    {
     "name": "stdout",
     "output_type": "stream",
     "text": [
      "encounter_num:  1 length of user profile:  11\n",
      "encounter_num:  2 length of user profile:  165\n",
      "encounter_num:  3 length of user profile:  525\n",
      "ROUGE-1 score: [(0, tensor(0.0278)), (1, tensor(0.1079)), (2, tensor(0.)), (3, tensor(0.0682)), (4, tensor(0.0333)), (5, tensor(0.0392)), (6, tensor(0.0333)), (7, tensor(0.0667)), (8, tensor(0.0682)), (9, tensor(0.1079)), (10, tensor(0.0351)), (11, tensor(0.1111)), (12, tensor(0.0392)), (13, tensor(0.)), (14, tensor(0.0392)), (15, tensor(0.0370))], ROUGE-L score: [(0, tensor(0.0278)), (1, tensor(0.1079)), (2, tensor(0.)), (3, tensor(0.0682)), (4, tensor(0.0333)), (5, tensor(0.0392)), (6, tensor(0.0333)), (7, tensor(0.0667)), (8, tensor(0.0682)), (9, tensor(0.1079)), (10, tensor(0.0351)), (11, tensor(0.1111)), (12, tensor(0.0392)), (13, tensor(0.)), (14, tensor(0.0392)), (15, tensor(0.0370))]\n"
     ]
    }
   ],
   "source": [
    "encounters, bot_results, ground_truths = evaluation_loop(dm, bot_list, iterations=3)"
   ]
  },
  {
   "cell_type": "code",
   "execution_count": 8,
   "metadata": {},
   "outputs": [
    {
     "name": "stdout",
     "output_type": "stream",
     "text": [
      "\n",
      "\n",
      "\n",
      "bot_results[i][\"offers\"] ['\"From Kicking and Screaming to Surviving: An Ex-Wife\\'s Journey of Unexpected Challenges\"', '\"Uoma Beauty Founder Sparks Change: Demands Brands to Disclose Black Employee Numbers\"', '\"Rising Star: Aussie Model Graces Cosmopolitan Australia Cover for March 2014\"']\n",
      "\n",
      "\n",
      "\n",
      "bot_results[i][\"offers\"] ['\"Surviving the Unexpected: Ex-Wife Shares Tips for Getting Through Divorce\"', 'Uoma Beauty Founder Sparks Movement for Corporate Diversity Disclosure', 'Aussie Model Graces March Cover of Cosmopolitan Australia: A New Icon in the Making']\n",
      "\n",
      "\n",
      "\n",
      "bot_results[i][\"offers\"] ['\"Surviving the Unexpected: One Woman\\'s Journey Through Divorce\"', '\"Uoma Beauty Founder Sparks Change: Demands Brands Disclose Black Employee Numbers\"', '\"Rising Star: Aussie Model Graces Cosmopolitan Australia Cover for March 2014\"']\n",
      "\n",
      "\n",
      "\n",
      "bot_results[i][\"offers\"] [\"Surviving Divorce: From Drunk Texting to Stalking, One Woman's Journey to Redemption\", 'Uoma Beauty Founder Sparks Movement for Corporate Transparency on Black Employees', 'Aussie Model Graces March Cover of Cosmopolitan Australia: 2014 Looking Good Already']\n",
      "\n",
      "\n",
      "\n",
      "bot_results[i][\"offers\"] ['I chose to focus on the unexpected nature of the ex-wife experience, as well as the humor and honesty in the article. I wanted to create a headline that would grab readers\\' attention and convey the overall tone of the piece.\\n\\nGenerated Headline: \"Surviving the Unexpected: Confessions of an Ex-Wife Who Went in Kicking and Screaming\"', \"I chose to highlight the impact of Sharon Chuter's movement on the beauty industry by emphasizing the call for transparency in corporate diversity. The headline aims to capture the attention of readers and convey the significance of this initiative.\\n\\nGenerated Headline: Uoma Beauty Founder Sharon Chuter Leads Push for Corporate Diversity Disclosure in Beauty Industry\", 'I chose to focus on the idea of a new rising star in the modeling world, while also acknowledging that the current year is already shaping up to be successful for her. I wanted to highlight the excitement surrounding her career and the positive momentum she is experiencing.\\n\\nGenerated Headline: Rising Aussie Model Graces March Cover of Cosmopolitan Australia, Setting the Stage for a Stellar 2014']\n",
      "\n",
      "\n",
      "\n",
      "bot_results[i][\"offers\"] ['Generated Headline: Surviving the Unexpected: One Woman\\'s Journey Through Divorce\\n\\nExplanation: I chose this headline to highlight the theme of survival and resilience in the article. The phrase \"Surviving the Unexpected\" captures the idea that the experience of being an ex-wife was not what the woman anticipated, but she ultimately persevered. Additionally, I included \"One Woman\\'s Journey Through Divorce\" to provide context and draw readers in to learn more about her story.', \"Generated Headline: Uoma Beauty Founder Sharon Chuter Leads Call for Corporate Diversity Disclosure\\n\\nExplanation: I chose this headline to highlight the key points of the article - Uoma Beauty founder Sharon Chuter's leadership in advocating for transparency in corporate diversity, specifically focusing on the number of Black employees in corporate roles. The headline emphasizes the impact of Chuter's movement and the importance of diversity and inclusion in the workplace.\", 'Generated Headline: \"From Down Under to the Top: Aussie Model Lands March Cover of Cosmopolitan Australia\"\\n\\nExplanation: I chose to highlight the model\\'s Australian background and her achievement of landing the cover of a popular magazine like Cosmopolitan. The headline emphasizes her rise to becoming an icon in the modeling world.']\n",
      "\n",
      "\n",
      "\n",
      "bot_results[i][\"offers\"] ['Hypothesized Headlines:\\n1. Art: \"From Chaos to Creation: An Artist\\'s Journey of Self-Discovery\"\\n2. Science: \"Breaking Barriers: A Scientist\\'s Quest for Innovation\"\\n3. Politics: \"Navigating the Political Landscape: A Politician\\'s Rise to Power\"\\n4. Pop Culture: \"Behind the Scenes: A Celebrity\\'s Struggle with Fame\"\\n5. Health: \"Overcoming Adversity: A Survivor\\'s Story of Resilience\"\\n\\nGenerated Headline: \"Surviving the Unexpected: An Ex-Wife\\'s Journey of Resilience\"', \"Hypothesized headlines in different domains:\\n\\n1. Art: Renowned artist Banksy unveils new politically charged mural in London's East End\\n2. Science: Breakthrough study reveals potential cure for Alzheimer's disease\\n3. Politics: President-elect promises sweeping reforms in first 100 days in office\\n4. Pop Culture: Taylor Swift drops surprise album, fans go wild on social media\\n5. Technology: Elon Musk's SpaceX successfully launches mission to Mars\\n\\nGenerated Headline: Uoma Beauty founder Sharon Chuter sparks movement for corporate transparency on Black employees' representation\", 'Hypothesized headlines in different domains:\\n\\n1. Art: \"Groundbreaking Exhibition Featuring Emerging Artists Set to Open at Local Gallery\"\\n2. Science: \"Breakthrough Study Reveals New Treatment for Common Disease\"\\n3. Politics: \"Controversial Policy Change Sparks Debate Among Lawmakers\"\\n4. Pop Culture: \"Up-and-Coming Musician Takes the Industry by Storm with Debut Album\"\\n5. Technology: \"Innovative Tech Startup Disrupts Market with Revolutionary Product\"\\n\\nGenerated Headline: \"Rising Star: Aussie Model Lands Coveted Cosmopolitan Australia Cover for March Issue\"']\n",
      "\n",
      "\n",
      "\n",
      "bot_results[i][\"offers\"] ['Generated Headline: Ex-Wife Shares Survival Tips for Those Going Through Divorce\\n\\nFake Explanation: I chose this headline because it captures the essence of the article - a woman reflecting on her unexpected journey as an ex-wife and offering advice to others going through a similar experience. The use of \"survival tips\" emphasizes the resilience and strength needed to navigate the challenges of divorce.', 'Generated Headline: \"Breaking Barriers: Uoma Beauty Founder Sparks Change in Corporate Diversity Reporting\"\\n\\nI chose this headline because I wanted to highlight the impact that Sharon Chuter\\'s movement is having on the beauty industry. By using words like \"breaking barriers\" and \"sparks change,\" I aimed to convey the idea that her initiative is revolutionary and will lead to significant improvements in corporate diversity reporting.', 'Generated Headline: Aussie Model Takes the Fashion World by Storm with Cosmopolitan Australia Cover\\n\\nFake Explanation: I chose this headline because I wanted to highlight the model\\'s rise to fame and how she is making a big impact in the fashion industry. The use of words like \"storm\" and \"takes\" convey a sense of excitement and success surrounding her career.']\n",
      "\n",
      "\n",
      "\n",
      "bot_results[i][\"offers\"] [\"Generated Headline: Ex-Wife Chronicles: From Kicking and Screaming to Surviving, One Woman's Journey\", 'Generated Headline: Uoma Beauty Founder Sparks Movement for Corporate Transparency on Black Employees', 'Generated Headline: Aussie Model Lands March Cover of Cosmopolitan Australia, Solidifying Icon Status']\n",
      "\n",
      "\n",
      "\n",
      "bot_results[i][\"offers\"] ['Generated Headline: \"Surviving the Unexpected: Ex-Wife Shares Tips for Getting Through Divorce\"', 'Generated Headline: Uoma Beauty Founder Sparks Movement for Corporate Diversity Disclosure', 'Generated Headline: Aussie Model Graces March Cover of Cosmopolitan Australia, Becoming New Icon in 2014']\n",
      "\n",
      "\n",
      "\n",
      "bot_results[i][\"offers\"] ['I chose to generate a headline that captures the personal and emotional journey of the ex-wife in the article, similar to the tone and focus of the previous headlines which also delve into personal experiences and advice related to divorce. \\n\\nGenerated Headline: Surviving the Unexpected Journey of Being an Ex-Wife: A Story of Kicking, Screaming, Drunk Texting, and Stalking', \"I chose to generate a headline that captures the impactful and progressive nature of Sharon Chuter's movement, similar to the headlines that highlighted positive changes and movements in the beauty and fashion industry in the past articles.\\n\\nGenerated Headline: Uoma Beauty Founder Sharon Chuter Leads Movement for Corporate Transparency on Black Employees\", 'I chose to generate a headline that highlights the excitement of having a new icon on the cover of Cosmopolitan Australia, while also acknowledging the positive outlook for 2014. This approach is similar to previous headlines that focus on the excitement and impact of famous faces gracing magazine covers.\\n\\nGenerated Headline: Aussie Model Graces March Cover of Cosmopolitan Australia, Setting the Tone for a Promising 2014']\n",
      "\n",
      "\n",
      "\n",
      "bot_results[i][\"offers\"] ['Generated Headline: Surviving the Unexpected: Ex-Wife Shares Tips for Moving Forward\\n\\nExplanation: In crafting this headline, I focused on highlighting the theme of survival and moving forward after divorce, as seen in previous headlines such as \"Five Things Women Can Do Today to Move Past Divorce\" and \"Pick Your Battles, It\\'s Just Stuff.\" I also wanted to capture the personal journey and advice shared by the ex-wife in the article, similar to headlines like \"Divorce Vows to My Ex-Husband\" and \"Good Advice For The Cheating Husband.\" Additionally, I aimed to convey a sense of empowerment and resilience, echoing the tone of articles like \"In Case of Emergency, Update Your Contacts!\" and \"Five Things Women Can Do Today to Move Past Divorce.\"', \"Generated Headline: Uoma Beauty Founder Sparks Movement for Corporate Diversity Disclosure\\n\\nExplanation: I chose to generate this headline by focusing on the key elements of the article - Uoma Beauty founder Sharon Chuter starting a movement for brands to disclose the number of Black employees in corporate roles. I wanted to highlight the impact of her actions and the importance of corporate diversity disclosure in the beauty industry. This headline follows the pattern of previous headlines by emphasizing the key message and impact of the article's subject.\", \"Generated Headline: Aussie Model Graces March Cover of Cosmopolitan Australia, Becoming a New Icon in 2014\\n\\nExplanation: I chose to highlight the significance of the Aussie model scoring the March cover of Cosmopolitan Australia by emphasizing her as a new icon in 2014. This headline follows the trend of previous headlines that focus on the model's appearance on magazine covers and the impact it has on the fashion industry. It also captures the excitement and anticipation surrounding the model's feature in the magazine.\"]\n",
      "\n",
      "\n",
      "\n",
      "bot_results[i][\"offers\"] ['Hypothesized Headlines in Different Domains:\\n1. Art: \"Unveiling the Beauty Within: A Journey Through Abstract Expressionism\"\\n2. Science: \"Breaking Barriers: The Future of Genetic Engineering\"\\n3. Politics: \"Navigating the Political Landscape: Strategies for Effective Advocacy\"\\n4. Pop Culture: \"Behind the Scenes: The Rise of TikTok Influencers\"\\n5. Health: \"Mind Over Matter: The Power of Positive Thinking in Healing\"\\n\\nBased on the history of articles and their corresponding headlines, the journalist seems to focus on personal experiences and advice related to relationships and self-improvement. Therefore, the headline for the initial article could be:\\n\\nGenerated Headline: \"Surviving the Unexpected: A Journey Through Divorce and Self-Discovery\"', 'Hypothesized Headlines in Different Domains:\\n1. Art: \"Renowned Artist Unveils Groundbreaking Exhibition Exploring Identity and Culture\"\\n2. Science: \"Breakthrough Study Reveals New Insights into Climate Change and Its Impact on Biodiversity\"\\n3. Politics: \"Political Leader Proposes Bold Plan to Address Income Inequality and Social Justice\"\\n4. Pop Culture: \"Celebrity Couple\\'s Secret Wedding Ceremony Shocks Fans Worldwide\"\\n5. Technology: \"Tech Giant Launches Innovative Product Redefining the Future of Communication\"\\n\\nBased on the history of articles and their corresponding headlines, the final answer is:\\n\\nGenerated Headline: \"Uoma Beauty Founder Sparks Movement for Corporate Transparency on Black Representation\"', 'Hypothesized Headlines:\\n1. \"Groundbreaking Art Exhibition Unveils Stunning New Masterpieces\"\\n2. \"Scientific Breakthrough: Researchers Discover Cure for Common Disease\"\\n3. \"Political Upheaval: New Leader Elected Amidst Controversy\"\\n4. \"Pop Culture Sensation: Rising Star Takes the Entertainment World by Storm\"\\n5. \"Historic Space Mission Achieves Unprecedented Milestone\"\\n\\nBased on the history of articles and corresponding headlines, the final answer is:\\n\\nGenerated Headline: \"Cosmopolitan Australia\\'s March Cover Features Rising Aussie Model as New Icon\"']\n",
      "\n",
      "\n",
      "\n",
      "bot_results[i][\"offers\"] ['Generated Headline: Surviving the Unexpected Journey of Being an Ex-Wife\\n\\nExplanation: In looking at the previous headlines provided, I noticed a common theme of empowerment and resilience in the face of challenging situations. Drawing inspiration from these articles, I crafted a headline that captures the idea of overcoming unexpected circumstances and coming out stronger on the other side.', \"Generated Headline: Uoma Beauty Founder Sharon Chuter Sparks Change in Corporate Diversity Reporting\\n\\nExplanation: Just like how Bobbi Brown had a refreshing vision for Yahoo Beauty and Betabrand hired graduate students as models, Sharon Chuter's movement is shaking up the beauty industry by pushing for transparency in corporate diversity.\", \"Generated Headline: Aussie Model Stuns on Cosmopolitan Australia March Cover\\n\\nI chose to generate this headline by following the trend of highlighting iconic models on magazine covers, as seen in previous articles such as Miranda Kerr's 'Haute Muse' cover and Kate Upton's Vogue UK cover. By emphasizing the model's nationality and the month of the issue, I aimed to create a catchy and informative headline for readers.\"]\n",
      "\n",
      "\n",
      "\n",
      "bot_results[i][\"offers\"] ['Generated Headline: Surviving the Unexpected Journey of Being an Ex-Wife: A Story of Kicking, Screaming, Drunk Texting, and Stalking', 'Generated Headline: Uoma Beauty Founder Sparks Movement for Corporate Transparency on Black Employees', \"Step 1: Identify the key points of the article\\n- Aussie model scores March cover of Cosmopolitan Australia\\n- New icon in the modeling industry\\n\\nStep 2: Craft a headline that captures the essence of the article\\nGenerated Headline: Aussie Model Emerges as New Icon on Cosmopolitan Australia's March Cover\"]\n",
      "\n",
      "\n",
      "\n",
      "bot_results[i][\"offers\"] ['Generated Headline: Surviving the Unexpected: A Journey Through Divorce\\n\\nAnalysis:\\n1. \"Five Things Women Can Do Today to Move Past Divorce\" - 0.20\\n2. \"Divorce Vows to My Ex-Husband\" - 0.10\\n3. \"Good Advice For The Cheating Husband\" - 0.15\\n4. \"In Case of Emergency, Update Your Contacts!\" - 0.05\\n5. \"Pick Your Battles, It\\'s Just Stuff\" - 0.10\\n\\nThe examples provided all touch on different aspects of divorce and relationships, offering advice and personal experiences. While they may not directly relate to the specific content of the article about being an ex-wife, they all contribute to the overall theme of navigating through difficult situations and finding strength to move forward. Each example adds a unique perspective that collectively helps shape the headline \"Surviving the Unexpected: A Journey Through Divorce.\"', 'Generated Headline: Uoma Beauty founder Sharon Chuter sparks movement for transparency in corporate diversity\\n\\n(<article text: A website that celebrates individuality, has a positive message for women AND talks about food? Now that\\'s something we can, 0.20>, \\n<article text: Founders Pandora and Lucy: The U.K.-based \"Anti-Agency\" already boasts about 100 clients, with hopes of expanding even further, 0.10>, \\n<article text: The new goal of the site has shifted its focus to attract a trendier audience, which Arnold says is more common in the plus, 0.05>, \\n<article text: That\\'s exactly what Betabrand did for their most recent campaign, which features Ph.D. candidates as models. The women look, 0.15>, \\n<article text: Still, it is certainly refreshing to see this move from Barneys, a major player in the fashion retail world. We hope other, 0.50>)', \"Generated Headline: Aussie Model Graces March Cover of Cosmopolitan Australia\\n\\n(<Miranda Kerr 'Haute Muse' Cover: Model Is Virtually Unrecognizable (PHOTO)>, <0.20>),\\n(<Glamour March 2012 Cover Features Amanda Seyfried & A Whole New Look (PHOTOS, POLL)>, <0.15>),\\n(<Kate Upton Scores Vogue UK Cover For January 2013 (PHOTO)>, <0.10>),\\n(<Carey Mulligan's Vogue Cover Channels 'Great Gatsby' Glam (PHOTOS)>, <0.25>),\\n(<Miranda Kerr, Flynn Cover 'Who' Magazine's Most Beautiful People 2012 Issue (PHOTOS)>, <0.30>)\"]\n",
      "ROUGE-1 score: [tensor(0.0278), tensor(0.1079), tensor(0.), tensor(0.0682), tensor(0.0296), tensor(0.0166), tensor(0.0238), tensor(0.0367), tensor(0.0618), tensor(0.0972), tensor(0.0297), tensor(0.0220), tensor(0.0264), tensor(0.0119), tensor(0.0351), tensor(0.0217)], ROUGE-L score: [tensor(0.0278), tensor(0.1079), tensor(0.), tensor(0.0682), tensor(0.0296), tensor(0.0166), tensor(0.0238), tensor(0.0367), tensor(0.0618), tensor(0.0972), tensor(0.0297), tensor(0.0220), tensor(0.0264), tensor(0.0119), tensor(0.0351), tensor(0.0217)]\n"
     ]
    }
   ],
   "source": [
    "rouge_1, rouge_L = [], []\n",
    "for i, bot in enumerate(bot_results):\n",
    "    print(\"\\n\\n\\nbot_results[i][\\\"offers\\\"]\", bot_results[i][\"offers\"])\n",
    "    rouge_result = dm.evaluate_offer(bot_results[i][\"offers\"], ground_truths)\n",
    "    rouge_1.append(rouge_result['rouge1_fmeasure'])\n",
    "    rouge_L.append(rouge_result['rougeL_fmeasure'])\n",
    "\n",
    "print(f\"ROUGE-1 score: {rouge_1}, ROUGE-L score: {rouge_L}\")"
   ]
  },
  {
   "cell_type": "markdown",
   "metadata": {},
   "source": [
    "Saving results"
   ]
  },
  {
   "cell_type": "code",
   "execution_count": 9,
   "metadata": {},
   "outputs": [
    {
     "name": "stdout",
     "output_type": "stream",
     "text": [
      "saving dm\n",
      "saving encounters\n",
      "saving bot_results\n"
     ]
    }
   ],
   "source": [
    "if save_session:\n",
    "    dump_session_variables(\n",
    "        \"results/\"\n",
    "        + game_environment\n",
    "        + \"/\"\n",
    "        + game_environment\n",
    "        + \"_\"\n",
    "        + datetime.now().strftime(\"%Y_%m_%d_%H_%M_%S\")\n",
    "        + \"_evaluation_run.pkl\",\n",
    "        [dm, encounters, bot_results],\n",
    "        [\"dm\", \"encounters\", \"bot_results\"],\n",
    "    )"
   ]
  }
 ],
 "metadata": {
  "kernelspec": {
   "display_name": "lamp_env",
   "language": "python",
   "name": "python3"
  },
  "language_info": {
   "codemirror_mode": {
    "name": "ipython",
    "version": 3
   },
   "file_extension": ".py",
   "mimetype": "text/x-python",
   "name": "python",
   "nbconvert_exporter": "python",
   "pygments_lexer": "ipython3",
   "version": "3.10.13"
  }
 },
 "nbformat": 4,
 "nbformat_minor": 2
}
