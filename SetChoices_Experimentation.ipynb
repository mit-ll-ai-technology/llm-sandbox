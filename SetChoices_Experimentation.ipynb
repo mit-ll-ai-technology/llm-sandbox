{
 "cells": [
  {
   "cell_type": "markdown",
   "metadata": {},
   "source": [
    "DISTRIBUTION STATEMENT A. Approved for public release. Distribution is unlimited.\n",
    "\n",
    "This material is based upon work supported by the Under Secretary of Defense for Research and Engineering under Air Force Contract No. FA8702-15-D-0001. Any opinions, findings, conclusions or recommendations expressed in this material are those of the author(s) and do not necessarily reflect the views of the Under Secretary of Defense for Research and Engineering.\n",
    "\n",
    "© 2024 Massachusetts Institute of Technology.\n",
    "\n",
    "The software/firmware is provided to you on an As-Is basis\n",
    "\n",
    "Delivered to the U.S. Government with Unlimited Rights, as defined in DFARS Part 252.227-7013 or 7014 (Feb 2014). Notwithstanding any copyright notice, U.S. Government rights in this work are defined by DFARS 252.227-7013 or DFARS 252.227-7014 as detailed above. Use of this work other than as specifically authorized by the U.S. Government may violate any copyrights that exist in this work.\n"
   ]
  },
  {
   "cell_type": "markdown",
   "metadata": {},
   "source": [
    "# Experimentation on generating fill-in-the-blank style responses to learn a set of conditional preferences over time.\n",
    "\n",
    "This notebook demonstrates the behavior of the `SetChoicesBot` instantiations of `bot_interfaces.py` with a set of preferences defined by the `game_environment` choice below, included in this repository."
   ]
  },
  {
   "cell_type": "markdown",
   "metadata": {},
   "source": [
    "Imports and LLM setup."
   ]
  },
  {
   "cell_type": "code",
   "execution_count": 1,
   "metadata": {},
   "outputs": [],
   "source": [
    "# import langchain dependencies\n",
    "from langchain.schema import HumanMessage\n",
    "\n",
    "# import other dependencies\n",
    "import matplotlib.pyplot as plt\n",
    "import yaml\n",
    "from datetime import datetime\n",
    "import os\n",
    "from typing import Type\n",
    "\n",
    "from io_functions import *\n",
    "from langchain_setup import *\n",
    "from bot_interfaces import *\n",
    "\n",
    "from preference_dungeon import *\n",
    "from plotting import bots_mean_and_std\n"
   ]
  },
  {
   "cell_type": "code",
   "execution_count": 2,
   "metadata": {},
   "outputs": [],
   "source": [
    "game_environment = \"dungeons_and_dragons\"        # what game environment? \"food_offer\", \"dungeons_and_dragons\", or \"lamp4\"\n",
    "verbose_output = True                            # print more outputs\n",
    "save_session = True                              # save LLM outputs as pickle       \n",
    "offer_justification = True                       # should the bot offer a justification\n",
    "\n",
    "MODEL_NAME = \"gpt-4\"\n",
    "EMBEDDINGS = \"text-embedding-ada-002\"\n"
   ]
  },
  {
   "cell_type": "markdown",
   "metadata": {},
   "source": [
    "Set variables given the above"
   ]
  },
  {
   "cell_type": "code",
   "execution_count": 3,
   "metadata": {},
   "outputs": [],
   "source": [
    "llm = ChatOpenAI(model_name=MODEL_NAME)\n",
    "embeddings = OpenAIEmbeddings(model=EMBEDDINGS)\n",
    "\n",
    "# load yaml files\n",
    "# these should be filled automatically, but will leave them as editable items just in case\n",
    "prompts_yaml_path = os.path.join(\"prompt_templates\", game_environment, \"prompts.yaml\")\n",
    "game_environment_yaml_path = os.path.join(\n",
    "    \"prompt_templates\", game_environment, \"setting_and_cast.yaml\"\n",
    ")\n",
    "game_preferences_yaml_path = os.path.join(\n",
    "    \"prompt_templates\", game_environment, \"preferences.yaml\"\n",
    ")\n",
    "\n",
    "with open(prompts_yaml_path, \"r\", encoding=\"utf-8\") as file:\n",
    "    prompts_yaml = yaml.safe_load(file)\n",
    "    initial_prompt = HumanMessage(content=prompts_yaml[\"initial_prompt\"])\n",
    "    encounter_template = prompts_yaml[\"encounter_template\"]\n",
    "\n",
    "    if offer_justification:\n",
    "        langchain_offer_template = prompts_yaml[\n",
    "            \"langchain_offer_justification_template\"\n",
    "        ]\n",
    "        response_template = prompts_yaml[\"response_justification_template\"]\n",
    "    else:\n",
    "        langchain_offer_template = prompts_yaml[\"langchain_offer_template\"]\n",
    "        response_template = prompts_yaml[\"response_template\"]"
   ]
  },
  {
   "cell_type": "markdown",
   "metadata": {},
   "source": [
    "Load and check contexts and preferences. Contexts and preferences are specific to the closed-form version of how this is used. They determine the situations that an LLM is presented to evaluate and the limited set of preferences that constitute correct answers in those settings."
   ]
  },
  {
   "cell_type": "code",
   "execution_count": 4,
   "metadata": {},
   "outputs": [
    {
     "name": "stdout",
     "output_type": "stream",
     "text": [
      "\n",
      "Context Categories\n",
      "level [3, 5, 8]\n",
      "alignment ['chaotic good', 'lawful evil', 'true neutral']\n",
      "class ['wizard', 'warlock', 'sorcerer']\n",
      "creature ['imp', 'troll', 'dragon', 'wraith']\n",
      "\n",
      "Offer Categories\n",
      "action ['run', 'cast alter self', 'cast chaos bolt', 'cast charm monster', 'cast chain lightning', 'cast earth tremor', 'cast fire bolt', 'cast gaseous form', 'cast grease', 'cast illusory dragon', 'cast minor illusion', 'cast mislead', 'cast shatter']\n",
      "\n",
      "Preferences\n",
      "run ['dragon', 'troll']\n",
      "cast grease ['imp', 'troll']\n",
      "cast illusory dragon ['sorcerer', 'wizard']\n",
      "cast charm monster ['chaotic good']\n",
      "cast gaseous form ['wraith']\n",
      "cast mislead ['lawful evil']\n",
      "cast minor illusion ['wraith']\n",
      "All contexts can be satisfied by the given preferences.\n"
     ]
    }
   ],
   "source": [
    "context_categories, offer_categories, preferences = check_and_load_yaml(\n",
    "    game_environment_yaml_path, game_preferences_yaml_path\n",
    ")\n",
    "\n",
    "if verbose_output:\n",
    "    print(\"\\nContext Categories\")\n",
    "    for k, v in context_categories.items():\n",
    "        print(k, v)\n",
    "    print(\"\\nOffer Categories\")\n",
    "    for k, v in offer_categories.items():\n",
    "        print(k, v)\n",
    "    print(\"\\nPreferences\")\n",
    "    for k, v in preferences.items():\n",
    "        print(k, v)\n",
    "\n",
    "# create the \"set choices\" version of the DungeonMaster class\n",
    "dm = DungeonMasterSetChoices(\n",
    "    list(context_categories.values()),\n",
    "    list(offer_categories.values()),\n",
    "    encounter_template,\n",
    "    response_template,\n",
    "    preferences,\n",
    "    seed=random.randint,\n",
    ")"
   ]
  },
  {
   "cell_type": "markdown",
   "metadata": {},
   "source": [
    "Define evaluation loop and bots. \n",
    "\n",
    "A *bot* is just any variant of agent that we are testing (e.g. random, full-history context LLM, summary variants, RAG, etc). All bots need to match the Bot abstract class in `bot_interfaces.py` to work with the evaluation loop."
   ]
  },
  {
   "cell_type": "code",
   "execution_count": 5,
   "metadata": {},
   "outputs": [],
   "source": [
    "def evaluation_loop(\n",
    "    dm: Type[DungeonMaster], bot_list: list[Type[Bot]], iterations: int = 1\n",
    "):\n",
    "\n",
    "    # create a list of dictionaries to hold the results\n",
    "    bot_results = []\n",
    "    encounters = []\n",
    "\n",
    "    # set up the bot_results array, with one dictionary of results per bot in the list given as input\n",
    "    for bot in bot_list:\n",
    "        bot_results.append(\n",
    "            {\n",
    "                \"bot name\": bot.name,\n",
    "                \"contexts presented\": 0,\n",
    "                \"valid offers\": 0,\n",
    "                \"accepted offers\": 0,\n",
    "                \"response history\": [],\n",
    "                \"result history\": [],\n",
    "            }\n",
    "        )\n",
    "\n",
    "    # loop over encounters\n",
    "    for encounter_num in range(1, iterations + 1):\n",
    "\n",
    "        encounters.append(dm.print_current_context())  # append the current context\n",
    "        if verbose_output:\n",
    "            print(f\"DM: Encounter {encounter_num}: {dm.print_current_context()}\")\n",
    "\n",
    "        # loop over bot list and have each bot evaluate the current context\n",
    "        for i, bot in enumerate(bot_list):\n",
    "            # the offer that the bot makes in this context\n",
    "            offer_str = bot.make_offer(\n",
    "                offer_categories, f\"Context: {dm.print_current_context()}\"\n",
    "            )\n",
    "\n",
    "            # the result of the offer\n",
    "            offer_result_str = dm.evaluate_offer(offer_str, string_output=True)\n",
    "\n",
    "            # the text of the full interaction (for printing and memory)\n",
    "            full_interaction_str = (\n",
    "                f\"{dm.print_current_context()} {offer_str} {offer_result_str}\"\n",
    "            )\n",
    "            print(f\"{bot.name}: {offer_str} {offer_result_str}\")\n",
    "\n",
    "            # update the bot memory with what just happened\n",
    "            # important! not all bots need to implement the update_memory function - what each bot does with memory is up to the bot_interface\n",
    "            bot.update_memory(full_interaction_str)\n",
    "\n",
    "            # check the offer result output\n",
    "            assert offer_result_str in [\n",
    "                \"ACCEPTED\",\n",
    "                \"REJECTED\",\n",
    "                \"INVALID OFFER\",\n",
    "            ], f\"{offer_result_str=}\"\n",
    "\n",
    "            # tally up results\n",
    "            bot_results[i][\"contexts presented\"] += 1\n",
    "            bot_results[i][\"response history\"].append(offer_str)\n",
    "            bot_results[i][\"result history\"].append(offer_result_str)\n",
    "            if offer_result_str == \"ACCEPTED\":\n",
    "                bot_results[i][\"valid offers\"] += 1\n",
    "                bot_results[i][\"accepted offers\"] += 1\n",
    "            elif offer_result_str == \"REJECTED\":\n",
    "                bot_results[i][\"valid offers\"] += 1\n",
    "\n",
    "        # advance the context (context is kept the same while we're looping through bots)\n",
    "        dm.next_context()\n",
    "        print(\"---\")\n",
    "\n",
    "    return encounters, bot_results"
   ]
  },
  {
   "cell_type": "code",
   "execution_count": 6,
   "metadata": {},
   "outputs": [
    {
     "name": "stdout",
     "output_type": "stream",
     "text": [
      "DM: Encounter 1: The player, a level 3 true neutral wizard, encounters a imp.\n",
      "RandomBot: The player should cast chaos bolt because I chose randomly. REJECTED\n",
      "LLMWithEntireHistoryBot: The player should cast earth tremor because it can cause the imp to lose its balance and become prone, making it easier to attack. REJECTED\n",
      "LLMWithPeriodicSummaryBot: The player should cast fire bolt because it is a simple yet effective offensive spell that can deal with lower level creatures like imps. REJECTED\n",
      "---\n",
      "DM: Encounter 2: The player, a level 8 true neutral warlock, encounters a troll.\n",
      "RandomBot: The player should cast grease because I chose randomly. ACCEPTED\n",
      "LLMWithEntireHistoryBot: The player should cast fire bolt because trolls are vulnerable to fire damage. REJECTED\n",
      "LLMWithPeriodicSummaryBot: The player should cast fire bolt because trolls are weak to fire damage. REJECTED\n",
      "---\n"
     ]
    }
   ],
   "source": [
    "# make the list of bots to be evaluated\n",
    "bot_list = [\n",
    "    RandomBot(response_template),\n",
    "    LLMWithEntireHistoryBot(llm, initial_prompt.content, langchain_offer_template),\n",
    "    LLMWithPeriodicSummaryBot(\n",
    "        llm, initial_prompt.content, langchain_offer_template, 10\n",
    "    ),\n",
    "]\n",
    "\n",
    "# run the evaluation loop\n",
    "encounters, bot_results = evaluation_loop(dm, bot_list, iterations=2)"
   ]
  },
  {
   "cell_type": "code",
   "execution_count": 7,
   "metadata": {},
   "outputs": [
    {
     "name": "stdout",
     "output_type": "stream",
     "text": [
      "saving dm\n",
      "saving encounters\n",
      "saving bot_results\n"
     ]
    }
   ],
   "source": [
    "if save_session:\n",
    "    dump_session_variables(\n",
    "        game_environment\n",
    "        + \"_\"\n",
    "        + datetime.now().strftime(\"%Y_%m_%d_%H_%M_%S\")\n",
    "        + \"_evaluation_run.pkl\",\n",
    "        [dm, encounters, bot_results],\n",
    "        [\"dm\", \"encounters\", \"bot_results\"],\n",
    "    )"
   ]
  },
  {
   "cell_type": "markdown",
   "metadata": {},
   "source": [
    "Plot results"
   ]
  },
  {
   "cell_type": "code",
   "execution_count": 8,
   "metadata": {},
   "outputs": [
    {
     "data": {
      "text/plain": [
       "<matplotlib.legend.Legend at 0x21509801270>"
      ]
     },
     "execution_count": 8,
     "metadata": {},
     "output_type": "execute_result"
    },
    {
     "data": {
      "image/png": "[encoded data removed]",
      "text/plain": [
       "<Figure size 640x480 with 1 Axes>"
      ]
     },
     "metadata": {},
     "output_type": "display_data"
    }
   ],
   "source": [
    "moving_window_size = 5\n",
    "\n",
    "plt.figure()\n",
    "results_by_bot = bots_mean_and_std(bot_results, moving_window_size)\n",
    "x_vals = range(moving_window_size, len(dm.context_history) + 1)\n",
    "for bot_name in results_by_bot.keys():\n",
    "    plt.plot(x_vals, results_by_bot[bot_name][0])\n",
    "    plt.fill_between(\n",
    "        x_vals,\n",
    "        results_by_bot[bot_name][0] - results_by_bot[bot_name][1],\n",
    "        results_by_bot[bot_name][0] + results_by_bot[bot_name][1],\n",
    "        alpha=0.2,\n",
    "        label=\"_nolegend_\",\n",
    "    )  # option to suppress the legend for the error regions\n",
    "plt.xlabel(\"encounter number\")\n",
    "plt.ylabel(\"moving average acceptance\")\n",
    "plt.title(f\"moving average offer acceptance - window size {moving_window_size}\")\n",
    "plt.legend([bot.name for bot in bot_list])"
   ]
  }
 ],
 "metadata": {
  "kernelspec": {
   "display_name": "llm_sandbox",
   "language": "python",
   "name": "python3"
  },
  "language_info": {
   "codemirror_mode": {
    "name": "ipython",
    "version": 3
   },
   "file_extension": ".py",
   "mimetype": "text/x-python",
   "name": "python",
   "nbconvert_exporter": "python",
   "pygments_lexer": "ipython3",
   "version": "3.10.13"
  }
 },
 "nbformat": 4,
 "nbformat_minor": 2
}
